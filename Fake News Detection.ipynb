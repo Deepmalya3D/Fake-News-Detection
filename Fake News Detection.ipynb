{
  "cells": [
    {
      "cell_type": "code",
      "execution_count": null,
      "metadata": {
        "execution": {
          "iopub.execute_input": "2023-01-02T14:08:08.372769Z",
          "iopub.status.busy": "2023-01-02T14:08:08.372104Z",
          "iopub.status.idle": "2023-01-02T14:08:15.034658Z",
          "shell.execute_reply": "2023-01-02T14:08:15.033712Z",
          "shell.execute_reply.started": "2023-01-02T14:08:08.372537Z"
        },
        "id": "d2cEJSX33JSn",
        "trusted": true
      },
      "outputs": [],
      "source": [
        "import pandas as pd\n",
        "import numpy as np\n",
        "import seaborn as sns\n",
        "import matplotlib.pyplot as plt\n",
        "import string\n",
        "import nltk\n",
        "from nltk.corpus import stopwords\n",
        "from nltk.stem import WordNetLemmatizer\n",
        "from sklearn.model_selection import train_test_split\n",
        "from tensorflow import keras\n",
        "from keras.preprocessing.text import Tokenizer\n",
        "from keras_preprocessing.sequence import pad_sequences\n",
        "from sklearn.metrics import classification_report"
      ]
    },
    {
      "cell_type": "markdown",
      "metadata": {
        "id": "a7TpbQeJ3JSq"
      },
      "source": [
        "### Importing The Datasets"
      ]
    },
    {
      "cell_type": "code",
      "execution_count": null,
      "metadata": {
        "execution": {
          "iopub.execute_input": "2023-01-02T14:08:15.038002Z",
          "iopub.status.busy": "2023-01-02T14:08:15.036812Z",
          "iopub.status.idle": "2023-01-02T14:08:17.456321Z",
          "shell.execute_reply": "2023-01-02T14:08:17.455381Z",
          "shell.execute_reply.started": "2023-01-02T14:08:15.037962Z"
        },
        "id": "TBCjhtB23JSu",
        "trusted": true
      },
      "outputs": [],
      "source": [
        "fake = pd.read_csv('/kaggle/input/fake-and-real-news-dataset/Fake.csv')\n",
        "true = pd.read_csv('/kaggle/input/fake-and-real-news-dataset/True.csv')"
      ]
    },
    {
      "cell_type": "code",
      "execution_count": null,
      "metadata": {
        "execution": {
          "iopub.execute_input": "2023-01-02T14:08:17.458297Z",
          "iopub.status.busy": "2023-01-02T14:08:17.457820Z",
          "iopub.status.idle": "2023-01-02T14:08:17.480326Z",
          "shell.execute_reply": "2023-01-02T14:08:17.479227Z",
          "shell.execute_reply.started": "2023-01-02T14:08:17.458253Z"
        },
        "id": "gYgCnjl03JSv",
        "outputId": "257baf8a-cd9e-4386-b563-768d0608b4ae",
        "trusted": true
      },
      "outputs": [
        {
          "data": {
            "text/html": [
              "<div>\n",
              "<style scoped>\n",
              "    .dataframe tbody tr th:only-of-type {\n",
              "        vertical-align: middle;\n",
              "    }\n",
              "\n",
              "    .dataframe tbody tr th {\n",
              "        vertical-align: top;\n",
              "    }\n",
              "\n",
              "    .dataframe thead th {\n",
              "        text-align: right;\n",
              "    }\n",
              "</style>\n",
              "<table border=\"1\" class=\"dataframe\">\n",
              "  <thead>\n",
              "    <tr style=\"text-align: right;\">\n",
              "      <th></th>\n",
              "      <th>title</th>\n",
              "      <th>text</th>\n",
              "      <th>subject</th>\n",
              "      <th>date</th>\n",
              "    </tr>\n",
              "  </thead>\n",
              "  <tbody>\n",
              "    <tr>\n",
              "      <th>0</th>\n",
              "      <td>As U.S. budget fight looms, Republicans flip t...</td>\n",
              "      <td>WASHINGTON (Reuters) - The head of a conservat...</td>\n",
              "      <td>politicsNews</td>\n",
              "      <td>December 31, 2017</td>\n",
              "    </tr>\n",
              "    <tr>\n",
              "      <th>1</th>\n",
              "      <td>U.S. military to accept transgender recruits o...</td>\n",
              "      <td>WASHINGTON (Reuters) - Transgender people will...</td>\n",
              "      <td>politicsNews</td>\n",
              "      <td>December 29, 2017</td>\n",
              "    </tr>\n",
              "    <tr>\n",
              "      <th>2</th>\n",
              "      <td>Senior U.S. Republican senator: 'Let Mr. Muell...</td>\n",
              "      <td>WASHINGTON (Reuters) - The special counsel inv...</td>\n",
              "      <td>politicsNews</td>\n",
              "      <td>December 31, 2017</td>\n",
              "    </tr>\n",
              "    <tr>\n",
              "      <th>3</th>\n",
              "      <td>FBI Russia probe helped by Australian diplomat...</td>\n",
              "      <td>WASHINGTON (Reuters) - Trump campaign adviser ...</td>\n",
              "      <td>politicsNews</td>\n",
              "      <td>December 30, 2017</td>\n",
              "    </tr>\n",
              "    <tr>\n",
              "      <th>4</th>\n",
              "      <td>Trump wants Postal Service to charge 'much mor...</td>\n",
              "      <td>SEATTLE/WASHINGTON (Reuters) - President Donal...</td>\n",
              "      <td>politicsNews</td>\n",
              "      <td>December 29, 2017</td>\n",
              "    </tr>\n",
              "  </tbody>\n",
              "</table>\n",
              "</div>"
            ],
            "text/plain": [
              "                                               title  \\\n",
              "0  As U.S. budget fight looms, Republicans flip t...   \n",
              "1  U.S. military to accept transgender recruits o...   \n",
              "2  Senior U.S. Republican senator: 'Let Mr. Muell...   \n",
              "3  FBI Russia probe helped by Australian diplomat...   \n",
              "4  Trump wants Postal Service to charge 'much mor...   \n",
              "\n",
              "                                                text       subject  \\\n",
              "0  WASHINGTON (Reuters) - The head of a conservat...  politicsNews   \n",
              "1  WASHINGTON (Reuters) - Transgender people will...  politicsNews   \n",
              "2  WASHINGTON (Reuters) - The special counsel inv...  politicsNews   \n",
              "3  WASHINGTON (Reuters) - Trump campaign adviser ...  politicsNews   \n",
              "4  SEATTLE/WASHINGTON (Reuters) - President Donal...  politicsNews   \n",
              "\n",
              "                 date  \n",
              "0  December 31, 2017   \n",
              "1  December 29, 2017   \n",
              "2  December 31, 2017   \n",
              "3  December 30, 2017   \n",
              "4  December 29, 2017   "
            ]
          },
          "execution_count": 3,
          "metadata": {},
          "output_type": "execute_result"
        }
      ],
      "source": [
        "true.head()"
      ]
    },
    {
      "cell_type": "markdown",
      "metadata": {
        "id": "hbUAbhUP3JSv"
      },
      "source": [
        "### Cleaning our Datasets"
      ]
    },
    {
      "cell_type": "code",
      "execution_count": null,
      "metadata": {
        "execution": {
          "iopub.execute_input": "2023-01-02T14:08:17.483561Z",
          "iopub.status.busy": "2023-01-02T14:08:17.483194Z",
          "iopub.status.idle": "2023-01-02T14:08:17.488359Z",
          "shell.execute_reply": "2023-01-02T14:08:17.487298Z",
          "shell.execute_reply.started": "2023-01-02T14:08:17.483526Z"
        },
        "id": "NmA0Ez7j3JSv",
        "trusted": true
      },
      "outputs": [],
      "source": [
        "true = true.iloc[:,:-1]\n",
        "fake = fake.iloc[:,:-1]"
      ]
    },
    {
      "cell_type": "code",
      "execution_count": null,
      "metadata": {
        "execution": {
          "iopub.execute_input": "2023-01-02T14:08:17.490473Z",
          "iopub.status.busy": "2023-01-02T14:08:17.490043Z",
          "iopub.status.idle": "2023-01-02T14:08:17.517080Z",
          "shell.execute_reply": "2023-01-02T14:08:17.516124Z",
          "shell.execute_reply.started": "2023-01-02T14:08:17.490437Z"
        },
        "id": "Y3Q7HW_y3JSw",
        "trusted": true
      },
      "outputs": [],
      "source": [
        "true = true.dropna()\n",
        "fake = fake.dropna()"
      ]
    },
    {
      "cell_type": "code",
      "execution_count": null,
      "metadata": {
        "execution": {
          "iopub.execute_input": "2023-01-02T14:08:17.520248Z",
          "iopub.status.busy": "2023-01-02T14:08:17.519531Z",
          "iopub.status.idle": "2023-01-02T14:08:17.533671Z",
          "shell.execute_reply": "2023-01-02T14:08:17.532791Z",
          "shell.execute_reply.started": "2023-01-02T14:08:17.520210Z"
        },
        "id": "UtFgAQ5K3JSw",
        "trusted": true
      },
      "outputs": [],
      "source": [
        "true['label'] = 1\n",
        "fake['label'] = 0"
      ]
    },
    {
      "cell_type": "markdown",
      "metadata": {
        "id": "Mq83pkH73JSx"
      },
      "source": [
        "### Merging all the data"
      ]
    },
    {
      "cell_type": "code",
      "execution_count": null,
      "metadata": {
        "execution": {
          "iopub.execute_input": "2023-01-02T14:08:17.536967Z",
          "iopub.status.busy": "2023-01-02T14:08:17.536695Z",
          "iopub.status.idle": "2023-01-02T14:08:17.546992Z",
          "shell.execute_reply": "2023-01-02T14:08:17.545342Z",
          "shell.execute_reply.started": "2023-01-02T14:08:17.536941Z"
        },
        "id": "5E-ZnnFO3JSx",
        "trusted": true
      },
      "outputs": [],
      "source": [
        "df = pd.concat([true, fake], ignore_index=True)"
      ]
    },
    {
      "cell_type": "code",
      "execution_count": null,
      "metadata": {
        "execution": {
          "iopub.execute_input": "2023-01-02T14:08:17.549257Z",
          "iopub.status.busy": "2023-01-02T14:08:17.548850Z",
          "iopub.status.idle": "2023-01-02T14:08:17.562520Z",
          "shell.execute_reply": "2023-01-02T14:08:17.561386Z",
          "shell.execute_reply.started": "2023-01-02T14:08:17.549219Z"
        },
        "id": "dU8FTKf53JSx",
        "outputId": "04c19d81-1408-4199-9d9b-f67c20e2e093",
        "trusted": true
      },
      "outputs": [
        {
          "data": {
            "text/html": [
              "<div>\n",
              "<style scoped>\n",
              "    .dataframe tbody tr th:only-of-type {\n",
              "        vertical-align: middle;\n",
              "    }\n",
              "\n",
              "    .dataframe tbody tr th {\n",
              "        vertical-align: top;\n",
              "    }\n",
              "\n",
              "    .dataframe thead th {\n",
              "        text-align: right;\n",
              "    }\n",
              "</style>\n",
              "<table border=\"1\" class=\"dataframe\">\n",
              "  <thead>\n",
              "    <tr style=\"text-align: right;\">\n",
              "      <th></th>\n",
              "      <th>title</th>\n",
              "      <th>text</th>\n",
              "      <th>subject</th>\n",
              "      <th>label</th>\n",
              "    </tr>\n",
              "  </thead>\n",
              "  <tbody>\n",
              "    <tr>\n",
              "      <th>0</th>\n",
              "      <td>As U.S. budget fight looms, Republicans flip t...</td>\n",
              "      <td>WASHINGTON (Reuters) - The head of a conservat...</td>\n",
              "      <td>politicsNews</td>\n",
              "      <td>1</td>\n",
              "    </tr>\n",
              "    <tr>\n",
              "      <th>1</th>\n",
              "      <td>U.S. military to accept transgender recruits o...</td>\n",
              "      <td>WASHINGTON (Reuters) - Transgender people will...</td>\n",
              "      <td>politicsNews</td>\n",
              "      <td>1</td>\n",
              "    </tr>\n",
              "    <tr>\n",
              "      <th>2</th>\n",
              "      <td>Senior U.S. Republican senator: 'Let Mr. Muell...</td>\n",
              "      <td>WASHINGTON (Reuters) - The special counsel inv...</td>\n",
              "      <td>politicsNews</td>\n",
              "      <td>1</td>\n",
              "    </tr>\n",
              "    <tr>\n",
              "      <th>3</th>\n",
              "      <td>FBI Russia probe helped by Australian diplomat...</td>\n",
              "      <td>WASHINGTON (Reuters) - Trump campaign adviser ...</td>\n",
              "      <td>politicsNews</td>\n",
              "      <td>1</td>\n",
              "    </tr>\n",
              "    <tr>\n",
              "      <th>4</th>\n",
              "      <td>Trump wants Postal Service to charge 'much mor...</td>\n",
              "      <td>SEATTLE/WASHINGTON (Reuters) - President Donal...</td>\n",
              "      <td>politicsNews</td>\n",
              "      <td>1</td>\n",
              "    </tr>\n",
              "  </tbody>\n",
              "</table>\n",
              "</div>"
            ],
            "text/plain": [
              "                                               title  \\\n",
              "0  As U.S. budget fight looms, Republicans flip t...   \n",
              "1  U.S. military to accept transgender recruits o...   \n",
              "2  Senior U.S. Republican senator: 'Let Mr. Muell...   \n",
              "3  FBI Russia probe helped by Australian diplomat...   \n",
              "4  Trump wants Postal Service to charge 'much mor...   \n",
              "\n",
              "                                                text       subject  label  \n",
              "0  WASHINGTON (Reuters) - The head of a conservat...  politicsNews      1  \n",
              "1  WASHINGTON (Reuters) - Transgender people will...  politicsNews      1  \n",
              "2  WASHINGTON (Reuters) - The special counsel inv...  politicsNews      1  \n",
              "3  WASHINGTON (Reuters) - Trump campaign adviser ...  politicsNews      1  \n",
              "4  SEATTLE/WASHINGTON (Reuters) - President Donal...  politicsNews      1  "
            ]
          },
          "execution_count": 8,
          "metadata": {},
          "output_type": "execute_result"
        }
      ],
      "source": [
        "df.head()"
      ]
    },
    {
      "cell_type": "markdown",
      "metadata": {
        "id": "wtnB7jLl3JSy"
      },
      "source": [
        "### Describing our Dataset"
      ]
    },
    {
      "cell_type": "code",
      "execution_count": null,
      "metadata": {
        "execution": {
          "iopub.execute_input": "2023-01-02T14:08:17.564873Z",
          "iopub.status.busy": "2023-01-02T14:08:17.564256Z",
          "iopub.status.idle": "2023-01-02T14:08:17.838300Z",
          "shell.execute_reply": "2023-01-02T14:08:17.837401Z",
          "shell.execute_reply.started": "2023-01-02T14:08:17.564833Z"
        },
        "id": "_Yj7kvk53JSy",
        "outputId": "c82d4404-8a2f-425b-d445-dbb1f7fd9c0c",
        "trusted": true
      },
      "outputs": [
        {
          "data": {
            "image/png": "[encoded data removed]",
            "text/plain": [
              "<Figure size 360x360 with 1 Axes>"
            ]
          },
          "metadata": {
            "needs_background": "light"
          },
          "output_type": "display_data"
        }
      ],
      "source": [
        "plt.figure(figsize = (5,5))\n",
        "sns.histplot(data = df, x = 'label', hue='label', bins = 2)\n",
        "plt.xlabel(\"News Type\")\n",
        "plt.title(\"Fake and Real Data Frequency\")\n",
        "plt.legend([\"Real\",\"Fake\"])\n",
        "plt.show()"
      ]
    },
    {
      "cell_type": "code",
      "execution_count": null,
      "metadata": {
        "execution": {
          "iopub.execute_input": "2023-01-02T14:08:17.842460Z",
          "iopub.status.busy": "2023-01-02T14:08:17.842182Z",
          "iopub.status.idle": "2023-01-02T14:08:17.980497Z",
          "shell.execute_reply": "2023-01-02T14:08:17.979112Z",
          "shell.execute_reply.started": "2023-01-02T14:08:17.842435Z"
        },
        "id": "jzV3Kp063JSy",
        "outputId": "dc7e7111-bc18-48f6-881b-cd945a15378e",
        "trusted": true
      },
      "outputs": [
        {
          "data": {
            "image/png": "[encoded data removed]",
            "text/plain": [
              "<Figure size 360x360 with 1 Axes>"
            ]
          },
          "metadata": {},
          "output_type": "display_data"
        }
      ],
      "source": [
        "plt.figure(figsize = (5,5))\n",
        "plt.pie(df.groupby(['subject']).subject.count(), labels=df.groupby(['subject']).subject.count().index)\n",
        "plt.show()"
      ]
    },
    {
      "cell_type": "markdown",
      "metadata": {
        "id": "_MXW5UjP3JSz"
      },
      "source": [
        "### Tokenization, Normalization & Substitution"
      ]
    },
    {
      "cell_type": "code",
      "execution_count": null,
      "metadata": {
        "execution": {
          "iopub.execute_input": "2023-01-02T14:08:17.982715Z",
          "iopub.status.busy": "2023-01-02T14:08:17.982296Z",
          "iopub.status.idle": "2023-01-02T14:08:18.173146Z",
          "shell.execute_reply": "2023-01-02T14:08:18.172154Z",
          "shell.execute_reply.started": "2023-01-02T14:08:17.982673Z"
        },
        "id": "yNvEz6Rj3JSz",
        "trusted": true
      },
      "outputs": [],
      "source": [
        "df.text = df.title + \" \" + df.text\n",
        "df = df.loc[:, ['text','label']]"
      ]
    },
    {
      "cell_type": "code",
      "execution_count": null,
      "metadata": {
        "execution": {
          "iopub.execute_input": "2023-01-02T14:08:18.177092Z",
          "iopub.status.busy": "2023-01-02T14:08:18.176780Z",
          "iopub.status.idle": "2023-01-02T14:08:25.895259Z",
          "shell.execute_reply": "2023-01-02T14:08:25.894313Z",
          "shell.execute_reply.started": "2023-01-02T14:08:18.177065Z"
        },
        "id": "RliDPgDv3JSz",
        "outputId": "36f82978-7f67-4380-f0ea-44ce9db9b571",
        "trusted": true
      },
      "outputs": [
        {
          "name": "stderr",
          "output_type": "stream",
          "text": [
            "/opt/conda/lib/python3.7/site-packages/ipykernel_launcher.py:4: FutureWarning: The default value of regex will change from True to False in a future version.\n",
            "  after removing the cwd from sys.path.\n"
          ]
        }
      ],
      "source": [
        "#lowercase, punctuation and removing numbers\n",
        "df.text = df.text.map(lambda x:x.lower())\n",
        "df.text = df.text.map(lambda x:x.translate(str.maketrans('', '', string.punctuation)))\n",
        "df.text = df.text.str.replace('\\d', '')"
      ]
    },
    {
      "cell_type": "code",
      "execution_count": null,
      "metadata": {
        "execution": {
          "iopub.execute_input": "2023-01-02T14:08:25.901733Z",
          "iopub.status.busy": "2023-01-02T14:08:25.901356Z",
          "iopub.status.idle": "2023-01-02T14:09:04.049660Z",
          "shell.execute_reply": "2023-01-02T14:09:04.048631Z",
          "shell.execute_reply.started": "2023-01-02T14:08:25.901703Z"
        },
        "id": "kvGcN3sa3JS0",
        "trusted": true
      },
      "outputs": [],
      "source": [
        "#removing stopwords such as prepositions\n",
        "stopwords = stopwords.words('english')\n",
        "df.text = df.text.map(lambda x: \" \".join(_ for _ in x.split() if _ not in stopwords))"
      ]
    },
    {
      "cell_type": "code",
      "execution_count": null,
      "metadata": {
        "execution": {
          "iopub.execute_input": "2023-01-02T14:09:37.118351Z",
          "iopub.status.busy": "2023-01-02T14:09:37.117990Z",
          "iopub.status.idle": "2023-01-02T14:10:25.810947Z",
          "shell.execute_reply": "2023-01-02T14:10:25.809949Z",
          "shell.execute_reply.started": "2023-01-02T14:09:37.118321Z"
        },
        "id": "Moesr_FA3JS0",
        "outputId": "a28986ce-6309-498c-8552-76e7d948fac3",
        "trusted": true
      },
      "outputs": [
        {
          "name": "stderr",
          "output_type": "stream",
          "text": [
            "[nltk_data] Downloading package omw-1.4 to /usr/share/nltk_data...\n"
          ]
        }
      ],
      "source": [
        "#lemmatizing the words, i.e. grouping similar words together\n",
        "nltk.download('omw-1.4')\n",
        "lemmatizer = WordNetLemmatizer()\n",
        "df.text = df.text.map(lambda x: \" \".join(lemmatizer.lemmatize(_) for _ in x.split()))"
      ]
    },
    {
      "cell_type": "code",
      "execution_count": null,
      "metadata": {
        "execution": {
          "iopub.execute_input": "2023-01-02T14:10:25.813351Z",
          "iopub.status.busy": "2023-01-02T14:10:25.812968Z",
          "iopub.status.idle": "2023-01-02T14:10:25.826939Z",
          "shell.execute_reply": "2023-01-02T14:10:25.825802Z",
          "shell.execute_reply.started": "2023-01-02T14:10:25.813315Z"
        },
        "id": "9h71ecmg3JS0",
        "trusted": true
      },
      "outputs": [],
      "source": [
        "X, y = df.text, df.label\n",
        "train_X, test_X, train_y, test_y = train_test_split(X, y, shuffle=True)"
      ]
    },
    {
      "cell_type": "code",
      "execution_count": null,
      "metadata": {
        "execution": {
          "iopub.execute_input": "2023-01-02T14:10:25.829069Z",
          "iopub.status.busy": "2023-01-02T14:10:25.828485Z",
          "iopub.status.idle": "2023-01-02T14:10:45.846363Z",
          "shell.execute_reply": "2023-01-02T14:10:45.845405Z",
          "shell.execute_reply.started": "2023-01-02T14:10:25.829031Z"
        },
        "id": "jm7UFkwT3JS1",
        "trusted": true
      },
      "outputs": [],
      "source": [
        "tokenizer_m = Tokenizer(num_words=10000)\n",
        "tokenizer_m.fit_on_texts(train_X)              #updating internal vocabulary based on the texts in training data\n",
        "tokenized_train_X, tokenized_test_X = tokenizer_m.texts_to_sequences(train_X), tokenizer_m.texts_to_sequences(test_X)       #creating integer sequences corresponding to the words\n",
        "train_X = pad_sequences(tokenized_train_X, padding='post', maxlen=500)              #padding to have equal length for each sequences\n",
        "test_X = pad_sequences(tokenized_test_X, padding='post', maxlen=500)"
      ]
    },
    {
      "cell_type": "markdown",
      "metadata": {
        "id": "T9yEzqS63JS1"
      },
      "source": [
        "### Training a LSTM model"
      ]
    },
    {
      "cell_type": "code",
      "execution_count": null,
      "metadata": {
        "execution": {
          "iopub.execute_input": "2023-01-02T14:10:45.849321Z",
          "iopub.status.busy": "2023-01-02T14:10:45.848953Z",
          "iopub.status.idle": "2023-01-02T14:10:49.444479Z",
          "shell.execute_reply": "2023-01-02T14:10:49.443543Z",
          "shell.execute_reply.started": "2023-01-02T14:10:45.849284Z"
        },
        "id": "0aiCJpG43JS1",
        "outputId": "0884aedb-e94d-4d21-add7-bae049df0fc9",
        "trusted": true
      },
      "outputs": [
        {
          "name": "stderr",
          "output_type": "stream",
          "text": [
            "2023-01-02 14:10:46.226718: I tensorflow/stream_executor/cuda/cuda_gpu_executor.cc:937] successful NUMA node read from SysFS had negative value (-1), but there must be at least one NUMA node, so returning NUMA node zero\n",
            "2023-01-02 14:10:46.318213: I tensorflow/stream_executor/cuda/cuda_gpu_executor.cc:937] successful NUMA node read from SysFS had negative value (-1), but there must be at least one NUMA node, so returning NUMA node zero\n",
            "2023-01-02 14:10:46.319086: I tensorflow/stream_executor/cuda/cuda_gpu_executor.cc:937] successful NUMA node read from SysFS had negative value (-1), but there must be at least one NUMA node, so returning NUMA node zero\n",
            "2023-01-02 14:10:46.320895: I tensorflow/core/platform/cpu_feature_guard.cc:142] This TensorFlow binary is optimized with oneAPI Deep Neural Network Library (oneDNN) to use the following CPU instructions in performance-critical operations:  AVX2 AVX512F FMA\n",
            "To enable them in other operations, rebuild TensorFlow with the appropriate compiler flags.\n",
            "2023-01-02 14:10:46.321251: I tensorflow/stream_executor/cuda/cuda_gpu_executor.cc:937] successful NUMA node read from SysFS had negative value (-1), but there must be at least one NUMA node, so returning NUMA node zero\n",
            "2023-01-02 14:10:46.321999: I tensorflow/stream_executor/cuda/cuda_gpu_executor.cc:937] successful NUMA node read from SysFS had negative value (-1), but there must be at least one NUMA node, so returning NUMA node zero\n",
            "2023-01-02 14:10:46.322674: I tensorflow/stream_executor/cuda/cuda_gpu_executor.cc:937] successful NUMA node read from SysFS had negative value (-1), but there must be at least one NUMA node, so returning NUMA node zero\n",
            "2023-01-02 14:10:48.600270: I tensorflow/stream_executor/cuda/cuda_gpu_executor.cc:937] successful NUMA node read from SysFS had negative value (-1), but there must be at least one NUMA node, so returning NUMA node zero\n",
            "2023-01-02 14:10:48.601160: I tensorflow/stream_executor/cuda/cuda_gpu_executor.cc:937] successful NUMA node read from SysFS had negative value (-1), but there must be at least one NUMA node, so returning NUMA node zero\n",
            "2023-01-02 14:10:48.601871: I tensorflow/stream_executor/cuda/cuda_gpu_executor.cc:937] successful NUMA node read from SysFS had negative value (-1), but there must be at least one NUMA node, so returning NUMA node zero\n",
            "2023-01-02 14:10:48.602456: I tensorflow/core/common_runtime/gpu/gpu_device.cc:1510] Created device /job:localhost/replica:0/task:0/device:GPU:0 with 15401 MB memory:  -> device: 0, name: Tesla P100-PCIE-16GB, pci bus id: 0000:00:04.0, compute capability: 6.0\n"
          ]
        }
      ],
      "source": [
        "model = keras.models.Sequential()\n",
        "model.add(keras.layers.Embedding(10000, 200))             #converting the integer sequences to dense vectors\n",
        "model.add(keras.layers.LSTM(100, return_sequences = True))\n",
        "model.add(keras.layers.Dropout(0.25))\n",
        "model.add(keras.layers.LSTM(50))\n",
        "model.add(keras.layers.Dropout(0.25))\n",
        "model.add(keras.layers.Dense(20, 'relu'))\n",
        "model.add(keras.layers.Dense(1, 'sigmoid'))"
      ]
    },
    {
      "cell_type": "code",
      "execution_count": null,
      "metadata": {
        "execution": {
          "iopub.execute_input": "2023-01-02T14:10:49.446480Z",
          "iopub.status.busy": "2023-01-02T14:10:49.446108Z",
          "iopub.status.idle": "2023-01-02T14:10:49.460084Z",
          "shell.execute_reply": "2023-01-02T14:10:49.458663Z",
          "shell.execute_reply.started": "2023-01-02T14:10:49.446441Z"
        },
        "id": "93MdeKZX3JS2",
        "outputId": "e92f3719-4103-4dc4-e887-493a178529d4",
        "trusted": true
      },
      "outputs": [
        {
          "name": "stdout",
          "output_type": "stream",
          "text": [
            "Model: \"sequential\"\n",
            "_________________________________________________________________\n",
            "Layer (type)                 Output Shape              Param #   \n",
            "=================================================================\n",
            "embedding (Embedding)        (None, None, 200)         2000000   \n",
            "_________________________________________________________________\n",
            "lstm (LSTM)                  (None, None, 100)         120400    \n",
            "_________________________________________________________________\n",
            "dropout (Dropout)            (None, None, 100)         0         \n",
            "_________________________________________________________________\n",
            "lstm_1 (LSTM)                (None, 50)                30200     \n",
            "_________________________________________________________________\n",
            "dropout_1 (Dropout)          (None, 50)                0         \n",
            "_________________________________________________________________\n",
            "dense (Dense)                (None, 20)                1020      \n",
            "_________________________________________________________________\n",
            "dense_1 (Dense)              (None, 1)                 21        \n",
            "=================================================================\n",
            "Total params: 2,151,641\n",
            "Trainable params: 2,151,641\n",
            "Non-trainable params: 0\n",
            "_________________________________________________________________\n"
          ]
        }
      ],
      "source": [
        "model.summary()"
      ]
    },
    {
      "cell_type": "code",
      "execution_count": null,
      "metadata": {
        "execution": {
          "iopub.execute_input": "2023-01-02T14:10:49.462503Z",
          "iopub.status.busy": "2023-01-02T14:10:49.461913Z",
          "iopub.status.idle": "2023-01-02T14:10:49.479123Z",
          "shell.execute_reply": "2023-01-02T14:10:49.478149Z",
          "shell.execute_reply.started": "2023-01-02T14:10:49.462464Z"
        },
        "id": "Mo-FJ-nJ3JS2",
        "trusted": true
      },
      "outputs": [],
      "source": [
        "opt = keras.optimizers.Adam(learning_rate=0.01)\n",
        "model.compile(optimizer=opt, loss=\"binary_crossentropy\", metrics=['accuracy'])"
      ]
    },
    {
      "cell_type": "code",
      "execution_count": null,
      "metadata": {
        "execution": {
          "iopub.execute_input": "2023-01-02T14:10:49.482558Z",
          "iopub.status.busy": "2023-01-02T14:10:49.481835Z",
          "iopub.status.idle": "2023-01-02T14:19:13.953464Z",
          "shell.execute_reply": "2023-01-02T14:19:13.952428Z",
          "shell.execute_reply.started": "2023-01-02T14:10:49.482523Z"
        },
        "id": "Qf4LO00S3JS2",
        "outputId": "abd02151-8342-48da-ba38-19cb6165157e",
        "trusted": true
      },
      "outputs": [
        {
          "name": "stdout",
          "output_type": "stream",
          "text": [
            "Epoch 1/6\n"
          ]
        },
        {
          "name": "stderr",
          "output_type": "stream",
          "text": [
            "2023-01-02 14:10:49.576073: I tensorflow/compiler/mlir/mlir_graph_optimization_pass.cc:185] None of the MLIR Optimization Passes are enabled (registered 2)\n",
            "2023-01-02 14:10:52.904653: I tensorflow/stream_executor/cuda/cuda_dnn.cc:369] Loaded cuDNN version 8005\n"
          ]
        },
        {
          "name": "stdout",
          "output_type": "stream",
          "text": [
            "1684/1684 [==============================] - 83s 47ms/step - loss: 0.6920 - accuracy: 0.5179 - val_loss: 0.6871 - val_accuracy: 0.5213\n",
            "Epoch 2/6\n",
            "1684/1684 [==============================] - 78s 46ms/step - loss: 0.3081 - accuracy: 0.8347 - val_loss: 0.0399 - val_accuracy: 0.9901\n",
            "Epoch 3/6\n",
            "1684/1684 [==============================] - 77s 46ms/step - loss: 0.0421 - accuracy: 0.9895 - val_loss: 0.0329 - val_accuracy: 0.9912\n",
            "Epoch 4/6\n",
            "1684/1684 [==============================] - 77s 46ms/step - loss: 0.0403 - accuracy: 0.9898 - val_loss: 0.0281 - val_accuracy: 0.9924\n",
            "Epoch 5/6\n",
            "1684/1684 [==============================] - 78s 46ms/step - loss: 0.0326 - accuracy: 0.9923 - val_loss: 0.0267 - val_accuracy: 0.9931\n",
            "Epoch 6/6\n",
            "1684/1684 [==============================] - 77s 46ms/step - loss: 0.0291 - accuracy: 0.9935 - val_loss: 0.0254 - val_accuracy: 0.9928\n"
          ]
        }
      ],
      "source": [
        "fitted_model = model.fit(train_X, train_y, epochs= 6, validation_split=0.25, batch_size=15, shuffle=True)"
      ]
    },
    {
      "cell_type": "markdown",
      "metadata": {
        "id": "y4_r0nLV3JS2"
      },
      "source": [
        "#### 99.28% Accuracy on the validation data"
      ]
    },
    {
      "cell_type": "code",
      "execution_count": null,
      "metadata": {
        "execution": {
          "iopub.execute_input": "2023-01-02T14:19:13.955943Z",
          "iopub.status.busy": "2023-01-02T14:19:13.955537Z",
          "iopub.status.idle": "2023-01-02T14:19:14.201039Z",
          "shell.execute_reply": "2023-01-02T14:19:14.200175Z",
          "shell.execute_reply.started": "2023-01-02T14:19:13.955906Z"
        },
        "id": "pyeNuPXi3JS3",
        "outputId": "98204a56-7db6-476c-9886-8150fab5dcbf",
        "trusted": true
      },
      "outputs": [
        {
          "data": {
            "text/plain": [
              "<AxesSubplot:>"
            ]
          },
          "execution_count": 22,
          "metadata": {},
          "output_type": "execute_result"
        },
        {
          "data": {
            "image/png": "[encoded data removed]",
            "text/plain": [
              "<Figure size 432x288 with 1 Axes>"
            ]
          },
          "metadata": {
            "needs_background": "light"
          },
          "output_type": "display_data"
        }
      ],
      "source": [
        "pd.DataFrame(fitted_model.history).plot()"
      ]
    },
    {
      "cell_type": "code",
      "execution_count": null,
      "metadata": {
        "execution": {
          "iopub.execute_input": "2023-01-02T14:19:14.202899Z",
          "iopub.status.busy": "2023-01-02T14:19:14.202528Z",
          "iopub.status.idle": "2023-01-02T14:19:24.998988Z",
          "shell.execute_reply": "2023-01-02T14:19:24.998067Z",
          "shell.execute_reply.started": "2023-01-02T14:19:14.202863Z"
        },
        "id": "HOg3LHLL3JS3",
        "outputId": "4f8eb04a-b7ff-4873-db25-db55590883ac",
        "trusted": true
      },
      "outputs": [
        {
          "name": "stdout",
          "output_type": "stream",
          "text": [
            "              precision    recall  f1-score   support\n",
            "\n",
            "           0       1.00      0.53      0.69     11225\n",
            "           1       0.00      0.00      0.00         0\n",
            "\n",
            "    accuracy                           0.53     11225\n",
            "   macro avg       0.50      0.26      0.35     11225\n",
            "weighted avg       1.00      0.53      0.69     11225\n",
            "\n"
          ]
        },
        {
          "name": "stderr",
          "output_type": "stream",
          "text": [
            "/opt/conda/lib/python3.7/site-packages/sklearn/metrics/_classification.py:1318: UndefinedMetricWarning: Recall and F-score are ill-defined and being set to 0.0 in labels with no true samples. Use `zero_division` parameter to control this behavior.\n",
            "  _warn_prf(average, modifier, msg_start, len(result))\n",
            "/opt/conda/lib/python3.7/site-packages/sklearn/metrics/_classification.py:1318: UndefinedMetricWarning: Recall and F-score are ill-defined and being set to 0.0 in labels with no true samples. Use `zero_division` parameter to control this behavior.\n",
            "  _warn_prf(average, modifier, msg_start, len(result))\n",
            "/opt/conda/lib/python3.7/site-packages/sklearn/metrics/_classification.py:1318: UndefinedMetricWarning: Recall and F-score are ill-defined and being set to 0.0 in labels with no true samples. Use `zero_division` parameter to control this behavior.\n",
            "  _warn_prf(average, modifier, msg_start, len(result))\n"
          ]
        }
      ],
      "source": [
        "pred_test_y = np.argmax(model.predict(test_X), axis = 1)\n",
        "print(classification_report(pred_test_y, test_y))"
      ]
    },
    {
      "cell_type": "code",
      "execution_count": null,
      "metadata": {
        "execution": {
          "iopub.execute_input": "2023-01-02T14:19:25.003111Z",
          "iopub.status.busy": "2023-01-02T14:19:25.002827Z",
          "iopub.status.idle": "2023-01-02T14:19:31.445510Z",
          "shell.execute_reply": "2023-01-02T14:19:31.444544Z",
          "shell.execute_reply.started": "2023-01-02T14:19:25.003084Z"
        },
        "id": "Tr9qiCKh3JS3",
        "outputId": "70e4a00b-30df-4cab-c3f2-f8df80b97b36",
        "trusted": true
      },
      "outputs": [
        {
          "name": "stdout",
          "output_type": "stream",
          "text": [
            "351/351 [==============================] - 6s 18ms/step - loss: 0.0340 - accuracy: 0.9909\n"
          ]
        },
        {
          "data": {
            "text/plain": [
              "[0.034012194722890854, 0.9909131526947021]"
            ]
          },
          "execution_count": 24,
          "metadata": {},
          "output_type": "execute_result"
        }
      ],
      "source": [
        "model.evaluate(test_X, test_y)"
      ]
    },
    {
      "attachments": {},
      "cell_type": "markdown",
      "metadata": {
        "id": "cjssVBB73JS3"
      },
      "source": [
        "### Great! 99.09% Accuracy on the Test Data!"
      ]
    },
    {
      "cell_type": "code",
      "execution_count": null,
      "metadata": {
        "id": "yk_hkk413JS4"
      },
      "outputs": [],
      "source": []
    }
  ],
  "metadata": {
    "colab": {
      "provenance": []
    },
    "kernelspec": {
      "display_name": "Python 3",
      "language": "python",
      "name": "python3"
    },
    "language_info": {
      "codemirror_mode": {
        "name": "ipython",
        "version": 3
      },
      "file_extension": ".py",
      "mimetype": "text/x-python",
      "name": "python",
      "nbconvert_exporter": "python",
      "pygments_lexer": "ipython3",
      "version": "3.7.12"
    },
    "vscode": {
      "interpreter": {
        "hash": "31f2aee4e71d21fbe5cf8b01ff0e069b9275f58929596ceb00d14d90e3e16cd6"
      }
    }
  },
  "nbformat": 4,
  "nbformat_minor": 0
}
